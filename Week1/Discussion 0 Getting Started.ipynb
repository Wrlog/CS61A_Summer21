{
 "cells": [
  {
   "cell_type": "code",
   "execution_count": null,
   "id": "68add98d",
   "metadata": {},
   "outputs": [],
   "source": [
    "Q1: What would Python display?"
   ]
  },
  {
   "cell_type": "code",
   "execution_count": 1,
   "id": "3eb03901",
   "metadata": {},
   "outputs": [
    {
     "data": {
      "text/plain": [
       "19"
      ]
     },
     "execution_count": 1,
     "metadata": {},
     "output_type": "execute_result"
    }
   ],
   "source": [
    " 3 + 4 ** 2"
   ]
  },
  {
   "cell_type": "code",
   "execution_count": 9,
   "id": "2e97c7c0",
   "metadata": {},
   "outputs": [
    {
     "data": {
      "text/plain": [
       "14"
      ]
     },
     "execution_count": 9,
     "metadata": {},
     "output_type": "execute_result"
    }
   ],
   "source": [
    "a = 6 + 2 * 4\n",
    ">>> a"
   ]
  },
  {
   "cell_type": "code",
   "execution_count": 5,
   "id": "a14eb5b2",
   "metadata": {},
   "outputs": [
    {
     "data": {
      "text/plain": [
       "9"
      ]
     },
     "execution_count": 5,
     "metadata": {},
     "output_type": "execute_result"
    }
   ],
   "source": [
    "b = (2 + 2) * 2 + 3 % 2\n",
    ">>> b"
   ]
  },
  {
   "cell_type": "code",
   "execution_count": 6,
   "id": "e37cb9e1",
   "metadata": {},
   "outputs": [
    {
     "data": {
      "text/plain": [
       "32"
      ]
     },
     "execution_count": 6,
     "metadata": {},
     "output_type": "execute_result"
    }
   ],
   "source": [
    "a + 2 * b"
   ]
  },
  {
   "cell_type": "code",
   "execution_count": 7,
   "id": "32a5ab5a",
   "metadata": {},
   "outputs": [
    {
     "data": {
      "text/plain": [
       "14"
      ]
     },
     "execution_count": 7,
     "metadata": {},
     "output_type": "execute_result"
    }
   ],
   "source": [
    "b += a      # Equivalent to b = b + a\n",
    ">>> a"
   ]
  },
  {
   "cell_type": "code",
   "execution_count": 10,
   "id": "c3e6a65a",
   "metadata": {},
   "outputs": [
    {
     "data": {
      "text/plain": [
       "23"
      ]
     },
     "execution_count": 10,
     "metadata": {},
     "output_type": "execute_result"
    }
   ],
   "source": [
    "b"
   ]
  },
  {
   "cell_type": "code",
   "execution_count": null,
   "id": "07fab0cf",
   "metadata": {},
   "outputs": [],
   "source": []
  }
 ],
 "metadata": {
  "kernelspec": {
   "display_name": "Python 3 (ipykernel)",
   "language": "python",
   "name": "python3"
  },
  "language_info": {
   "codemirror_mode": {
    "name": "ipython",
    "version": 3
   },
   "file_extension": ".py",
   "mimetype": "text/x-python",
   "name": "python",
   "nbconvert_exporter": "python",
   "pygments_lexer": "ipython3",
   "version": "3.9.12"
  }
 },
 "nbformat": 4,
 "nbformat_minor": 5
}
